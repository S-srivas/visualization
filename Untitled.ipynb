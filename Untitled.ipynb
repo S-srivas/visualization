{
 "cells": [
  {
   "cell_type": "code",
   "execution_count": null,
   "metadata": {},
   "outputs": [],
   "source": [
    "# Importing Stuff\n",
    "from pylab import plot, show, bar, scatter, annotate\n",
    "import matplotlib.pyplot as plt\n",
    "# These are empty lists to fill in so the program could work\n",
    "x = []\n",
    "y = []\n",
    "z = []\n",
    "# This is where we actually start the process\n",
    "file1 = open('lunch together.csv', 'r')\n",
    "for line in file1:\n",
    "    # Here, we are spliting the lines which are seperated by a comma\n",
    "    line = line.strip()\n",
    "    line = line.split(',')\n",
    "    # These are the axis on which the data will be put on\n",
    "    z.append(line[4].strip())\n",
    "    y.append(line[0].strip())\n",
    "    x.append(line[2].strip())\n",
    "\n",
    "    # Here, we start to put the bells and whisiles, i.e, the tittles\n",
    "plt.title('Number of Cookies In A Month')\n",
    "plt.xlabel('Months')\n",
    "plt.ylabel('Items')\n",
    "\n",
    "# We print everything to show to the viewer what data we are actually plotting\n",
    "print (x,y,z)\n",
    "\n",
    "# This is a scatter plot, and c= specifies what color will be a specific part of the data\n",
    "scatter(y,x, c='purple')\n",
    "scatter(y,z, c='pink')\n",
    "\n",
    "# Here, we are actually showing what all of the lines above result in\n",
    "show()\n",
    "\n",
    "# We close the file for good\n",
    "file1.close()"
   ]
  },
  {
   "cell_type": "code",
   "execution_count": null,
   "metadata": {},
   "outputs": [],
   "source": []
  }
 ],
 "metadata": {
  "kernelspec": {
   "display_name": "Python 3",
   "language": "python",
   "name": "python3"
  }
 },
 "nbformat": 4,
 "nbformat_minor": 2
}
